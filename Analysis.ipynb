{
 "cells": [
  {
   "cell_type": "markdown",
   "id": "74279e8c",
   "metadata": {},
   "source": [
    "# Introduction\n",
    "In this notebook, we are going to explore the Adidas Sales Dataset which represents the company's sales in the United States, and we will try to answer 3 questions:\n",
    "\n",
    "1- Does day of week has an effect on total sales\n",
    "\n",
    "2- At which price per unit do we generate the most operating margin\n",
    "\n",
    "3- Which sales method\\product\\state generated the most operating margin\n",
    "\n",
    "You can find the link to the dataset on Kaggle __[here](https://www.kaggle.com/datasets/heemalichaudhari/adidas-sales-dataset)__.\n",
    "\n",
    "First, let's import the needed libraries."
   ]
  },
  {
   "cell_type": "code",
   "execution_count": 1,
   "id": "fb599499",
   "metadata": {},
   "outputs": [],
   "source": [
    "import matplotlib.pyplot as plt\n",
    "import pandas as pd\n",
    "%matplotlib inline\n"
   ]
  },
  {
   "cell_type": "markdown",
   "id": "3b328485",
   "metadata": {},
   "source": [
    "Now, lets read our dataset, format it to a usable form, and explore it."
   ]
  },
  {
   "cell_type": "code",
   "execution_count": 2,
   "id": "0cbdc385",
   "metadata": {},
   "outputs": [],
   "source": [
    "# We will skip the first 4 rows of the file, because these rows don't have any information\n",
    "# We will also drop the first column because it's an empty column\n",
    "df = pd.read_excel(r\"Data\\Adidas US Sales Datasets.xlsx\", skiprows=4)\n",
    "df = df.drop(columns='Unnamed: 0')"
   ]
  },
  {
   "cell_type": "code",
   "execution_count": 3,
   "id": "fc55022c",
   "metadata": {
    "scrolled": false
   },
   "outputs": [
    {
     "data": {
      "text/plain": [
       "Retailer                    object\n",
       "Retailer ID                  int64\n",
       "Invoice Date        datetime64[ns]\n",
       "Region                      object\n",
       "State                       object\n",
       "City                        object\n",
       "Product                     object\n",
       "Price per Unit             float64\n",
       "Units Sold                   int64\n",
       "Total Sales                float64\n",
       "Operating Profit           float64\n",
       "Operating Margin           float64\n",
       "Sales Method                object\n",
       "dtype: object"
      ]
     },
     "execution_count": 3,
     "metadata": {},
     "output_type": "execute_result"
    }
   ],
   "source": [
    "# Let's print the column names and their dtype\n",
    "df.dtypes"
   ]
  },
  {
   "cell_type": "code",
   "execution_count": 4,
   "id": "8ef88b39",
   "metadata": {},
   "outputs": [
    {
     "data": {
      "text/html": [
       "<div>\n",
       "<style scoped>\n",
       "    .dataframe tbody tr th:only-of-type {\n",
       "        vertical-align: middle;\n",
       "    }\n",
       "\n",
       "    .dataframe tbody tr th {\n",
       "        vertical-align: top;\n",
       "    }\n",
       "\n",
       "    .dataframe thead th {\n",
       "        text-align: right;\n",
       "    }\n",
       "</style>\n",
       "<table border=\"1\" class=\"dataframe\">\n",
       "  <thead>\n",
       "    <tr style=\"text-align: right;\">\n",
       "      <th></th>\n",
       "      <th>Retailer</th>\n",
       "      <th>Retailer ID</th>\n",
       "      <th>Invoice Date</th>\n",
       "      <th>Region</th>\n",
       "      <th>State</th>\n",
       "      <th>City</th>\n",
       "      <th>Product</th>\n",
       "      <th>Price per Unit</th>\n",
       "      <th>Units Sold</th>\n",
       "      <th>Total Sales</th>\n",
       "      <th>Operating Profit</th>\n",
       "      <th>Operating Margin</th>\n",
       "      <th>Sales Method</th>\n",
       "    </tr>\n",
       "  </thead>\n",
       "  <tbody>\n",
       "    <tr>\n",
       "      <th>0</th>\n",
       "      <td>Foot Locker</td>\n",
       "      <td>1185732</td>\n",
       "      <td>2020-01-01</td>\n",
       "      <td>Northeast</td>\n",
       "      <td>New York</td>\n",
       "      <td>New York</td>\n",
       "      <td>Men's Street Footwear</td>\n",
       "      <td>50.0</td>\n",
       "      <td>1200</td>\n",
       "      <td>600000.0</td>\n",
       "      <td>300000.0</td>\n",
       "      <td>0.50</td>\n",
       "      <td>In-store</td>\n",
       "    </tr>\n",
       "    <tr>\n",
       "      <th>1</th>\n",
       "      <td>Foot Locker</td>\n",
       "      <td>1185732</td>\n",
       "      <td>2020-01-02</td>\n",
       "      <td>Northeast</td>\n",
       "      <td>New York</td>\n",
       "      <td>New York</td>\n",
       "      <td>Men's Athletic Footwear</td>\n",
       "      <td>50.0</td>\n",
       "      <td>1000</td>\n",
       "      <td>500000.0</td>\n",
       "      <td>150000.0</td>\n",
       "      <td>0.30</td>\n",
       "      <td>In-store</td>\n",
       "    </tr>\n",
       "    <tr>\n",
       "      <th>2</th>\n",
       "      <td>Foot Locker</td>\n",
       "      <td>1185732</td>\n",
       "      <td>2020-01-03</td>\n",
       "      <td>Northeast</td>\n",
       "      <td>New York</td>\n",
       "      <td>New York</td>\n",
       "      <td>Women's Street Footwear</td>\n",
       "      <td>40.0</td>\n",
       "      <td>1000</td>\n",
       "      <td>400000.0</td>\n",
       "      <td>140000.0</td>\n",
       "      <td>0.35</td>\n",
       "      <td>In-store</td>\n",
       "    </tr>\n",
       "    <tr>\n",
       "      <th>3</th>\n",
       "      <td>Foot Locker</td>\n",
       "      <td>1185732</td>\n",
       "      <td>2020-01-04</td>\n",
       "      <td>Northeast</td>\n",
       "      <td>New York</td>\n",
       "      <td>New York</td>\n",
       "      <td>Women's Athletic Footwear</td>\n",
       "      <td>45.0</td>\n",
       "      <td>850</td>\n",
       "      <td>382500.0</td>\n",
       "      <td>133875.0</td>\n",
       "      <td>0.35</td>\n",
       "      <td>In-store</td>\n",
       "    </tr>\n",
       "    <tr>\n",
       "      <th>4</th>\n",
       "      <td>Foot Locker</td>\n",
       "      <td>1185732</td>\n",
       "      <td>2020-01-05</td>\n",
       "      <td>Northeast</td>\n",
       "      <td>New York</td>\n",
       "      <td>New York</td>\n",
       "      <td>Men's Apparel</td>\n",
       "      <td>60.0</td>\n",
       "      <td>900</td>\n",
       "      <td>540000.0</td>\n",
       "      <td>162000.0</td>\n",
       "      <td>0.30</td>\n",
       "      <td>In-store</td>\n",
       "    </tr>\n",
       "  </tbody>\n",
       "</table>\n",
       "</div>"
      ],
      "text/plain": [
       "      Retailer  Retailer ID Invoice Date     Region     State      City  \\\n",
       "0  Foot Locker      1185732   2020-01-01  Northeast  New York  New York   \n",
       "1  Foot Locker      1185732   2020-01-02  Northeast  New York  New York   \n",
       "2  Foot Locker      1185732   2020-01-03  Northeast  New York  New York   \n",
       "3  Foot Locker      1185732   2020-01-04  Northeast  New York  New York   \n",
       "4  Foot Locker      1185732   2020-01-05  Northeast  New York  New York   \n",
       "\n",
       "                     Product  Price per Unit  Units Sold  Total Sales  \\\n",
       "0      Men's Street Footwear            50.0        1200     600000.0   \n",
       "1    Men's Athletic Footwear            50.0        1000     500000.0   \n",
       "2    Women's Street Footwear            40.0        1000     400000.0   \n",
       "3  Women's Athletic Footwear            45.0         850     382500.0   \n",
       "4              Men's Apparel            60.0         900     540000.0   \n",
       "\n",
       "   Operating Profit  Operating Margin Sales Method  \n",
       "0          300000.0              0.50     In-store  \n",
       "1          150000.0              0.30     In-store  \n",
       "2          140000.0              0.35     In-store  \n",
       "3          133875.0              0.35     In-store  \n",
       "4          162000.0              0.30     In-store  "
      ]
     },
     "execution_count": 4,
     "metadata": {},
     "output_type": "execute_result"
    }
   ],
   "source": [
    "# Let's see take a look at some of the rows in the dataset\n",
    "df.head()"
   ]
  },
  {
   "cell_type": "markdown",
   "id": "854f7aa9",
   "metadata": {},
   "source": [
    "## 1- Does day of week has an effect on total sales\n",
    "To answer this question, let's group each day of week in its own group and then sum the results. Then, let's plot the results."
   ]
  },
  {
   "cell_type": "code",
   "execution_count": 5,
   "id": "353b3756",
   "metadata": {
    "scrolled": true
   },
   "outputs": [
    {
     "data": {
      "image/png": "[encoded data removed]",
      "text/plain": [
       "<Figure size 432x288 with 1 Axes>"
      ]
     },
     "metadata": {
      "needs_background": "light"
     },
     "output_type": "display_data"
    }
   ],
   "source": [
    "# Since the dtype of Invoice Date column is datetime64, we can make use of the strftime function and give it %A format code\n",
    "# which displays full weekday name according to documentation.\n",
    "df['day'] = df['Invoice Date'].dt.strftime('%A')\n",
    "\n",
    "# Now we will group each day together and then sum the Total Sales column\n",
    "sales = df.groupby(['day'])[['Total Sales']].sum()\n",
    "\n",
    "# Let's use the loc method to arrange the sales results in a human readable order then plot it\n",
    "sales = sales.loc[['Monday', 'Tuesday', 'Wednesday', 'Thursday', 'Friday', 'Saturday', 'Sunday']]\n",
    "sales['Total Sales'].plot();"
   ]
  },
  {
   "cell_type": "markdown",
   "id": "3e9d9168",
   "metadata": {},
   "source": [
    "As we can see from the graph, sales are highest on Thursdays and Fridays, while they are lowest on Saturdays, Sundays, and Mondays."
   ]
  },
  {
   "cell_type": "markdown",
   "id": "366cb3ee",
   "metadata": {},
   "source": [
    "## 2- At which price per unit do we generate the most operating margin\n",
    "To answer this question, let's group each price per unit in its own group and then sum the results and calculate the operating margin. Then, we will filter the insignificant results (total sales below 1 million) and plot the results."
   ]
  },
  {
   "cell_type": "code",
   "execution_count": 6,
   "id": "0831e85f",
   "metadata": {
    "scrolled": false
   },
   "outputs": [
    {
     "data": {
      "image/png": "[encoded data removed]",
      "text/plain": [
       "<Figure size 432x288 with 1 Axes>"
      ]
     },
     "metadata": {
      "needs_background": "light"
     },
     "output_type": "display_data"
    }
   ],
   "source": [
    "# Now we will group each Price per Unit together and then sum the Total Sales and Operating Profit columns\n",
    "results = df.groupby('Price per Unit')[['Total Sales','Operating Profit']].sum()\n",
    "\n",
    "# We will calculate the Operating Margin by dividing Operating Profit by Total Sales\n",
    "results['Operating Margin'] = results['Operating Profit']/results['Total Sales']\n",
    "\n",
    "# Let's filter the any Total Sales below 1 million, then plot\n",
    "results = results[results['Total Sales']>1e6]\n",
    "results['Operating Margin'].plot();"
   ]
  },
  {
   "cell_type": "markdown",
   "id": "133cd564",
   "metadata": {},
   "source": [
    "The graph shows that, generally speaking, the lowest our price per unit is, the higher our operating margin."
   ]
  },
  {
   "cell_type": "markdown",
   "id": "32be0ce2",
   "metadata": {},
   "source": [
    "## 3- Which sales method\\product\\state generated the most operating margin\n",
    "To answer this question, let's group each sales method\\product\\state in its own group and then sum the results and calculate the operating margin."
   ]
  },
  {
   "cell_type": "code",
   "execution_count": 7,
   "id": "3f3ebebe",
   "metadata": {},
   "outputs": [
    {
     "data": {
      "image/png": "[encoded data removed]",
      "text/plain": [
       "<Figure size 432x288 with 1 Axes>"
      ]
     },
     "metadata": {
      "needs_background": "light"
     },
     "output_type": "display_data"
    }
   ],
   "source": [
    "results = df.groupby('Sales Method')[['Total Sales','Operating Profit']].sum()\n",
    "results['Operating Margin'] = results['Operating Profit']/results['Total Sales']\n",
    "results['Operating Margin'].plot();"
   ]
  },
  {
   "cell_type": "markdown",
   "id": "0fc88083",
   "metadata": {},
   "source": [
    "The graph shows that Online sales method has the highest operating margin."
   ]
  },
  {
   "cell_type": "markdown",
   "id": "3f8d151f",
   "metadata": {},
   "source": [
    "We will do this again for Product."
   ]
  },
  {
   "cell_type": "code",
   "execution_count": 8,
   "id": "96232904",
   "metadata": {
    "scrolled": true
   },
   "outputs": [
    {
     "data": {
      "text/plain": [
       "Product\n",
       "Men's Street Footwear        0.396513\n",
       "Women's Apparel              0.383442\n",
       "Women's Athletic Footwear    0.365517\n",
       "Men's Apparel                0.361784\n",
       "Women's Street Footwear      0.352303\n",
       "Men's Athletic Footwear      0.337383\n",
       "Name: Operating Margin, dtype: float64"
      ]
     },
     "execution_count": 8,
     "metadata": {},
     "output_type": "execute_result"
    }
   ],
   "source": [
    "results = df.groupby('Product')[['Total Sales','Operating Profit']].sum()\n",
    "results['Operating Margin'] = results['Operating Profit']/results['Total Sales']\n",
    "results = results.sort_values('Operating Margin', ascending=False)\n",
    "results['Operating Margin']"
   ]
  },
  {
   "cell_type": "markdown",
   "id": "4313cb8c",
   "metadata": {},
   "source": [
    "This sorted breakdown shows that Men's Street Footwear generated the most operating margin, while Men's Athletic Footwear generated the least."
   ]
  },
  {
   "cell_type": "markdown",
   "id": "8923c1da",
   "metadata": {},
   "source": [
    "Finally, we will do the same to see which state generated the most operating margin."
   ]
  },
  {
   "cell_type": "code",
   "execution_count": 9,
   "id": "1f6301d9",
   "metadata": {
    "scrolled": false
   },
   "outputs": [
    {
     "data": {
      "text/html": [
       "<div>\n",
       "<style scoped>\n",
       "    .dataframe tbody tr th:only-of-type {\n",
       "        vertical-align: middle;\n",
       "    }\n",
       "\n",
       "    .dataframe tbody tr th {\n",
       "        vertical-align: top;\n",
       "    }\n",
       "\n",
       "    .dataframe thead th {\n",
       "        text-align: right;\n",
       "    }\n",
       "</style>\n",
       "<table border=\"1\" class=\"dataframe\">\n",
       "  <thead>\n",
       "    <tr style=\"text-align: right;\">\n",
       "      <th></th>\n",
       "      <th>Total Sales</th>\n",
       "      <th>Operating Margin</th>\n",
       "    </tr>\n",
       "    <tr>\n",
       "      <th>State</th>\n",
       "      <th></th>\n",
       "      <th></th>\n",
       "    </tr>\n",
       "  </thead>\n",
       "  <tbody>\n",
       "    <tr>\n",
       "      <th>Alabama</th>\n",
       "      <td>17633424.0</td>\n",
       "      <td>0.518764</td>\n",
       "    </tr>\n",
       "    <tr>\n",
       "      <th>Tennessee</th>\n",
       "      <td>18067440.0</td>\n",
       "      <td>0.470109</td>\n",
       "    </tr>\n",
       "    <tr>\n",
       "      <th>Michigan</th>\n",
       "      <td>18625433.0</td>\n",
       "      <td>0.436816</td>\n",
       "    </tr>\n",
       "    <tr>\n",
       "      <th>Idaho</th>\n",
       "      <td>19276878.0</td>\n",
       "      <td>0.421288</td>\n",
       "    </tr>\n",
       "    <tr>\n",
       "      <th>Nebraska</th>\n",
       "      <td>5929038.0</td>\n",
       "      <td>0.411446</td>\n",
       "    </tr>\n",
       "    <tr>\n",
       "      <th>Mississippi</th>\n",
       "      <td>15591709.0</td>\n",
       "      <td>0.408492</td>\n",
       "    </tr>\n",
       "    <tr>\n",
       "      <th>Ohio</th>\n",
       "      <td>18484583.0</td>\n",
       "      <td>0.407304</td>\n",
       "    </tr>\n",
       "    <tr>\n",
       "      <th>North Carolina</th>\n",
       "      <td>23956531.0</td>\n",
       "      <td>0.407255</td>\n",
       "    </tr>\n",
       "    <tr>\n",
       "      <th>Missouri</th>\n",
       "      <td>9683265.0</td>\n",
       "      <td>0.403501</td>\n",
       "    </tr>\n",
       "    <tr>\n",
       "      <th>Vermont</th>\n",
       "      <td>14352923.0</td>\n",
       "      <td>0.403121</td>\n",
       "    </tr>\n",
       "    <tr>\n",
       "      <th>Texas</th>\n",
       "      <td>46359746.0</td>\n",
       "      <td>0.403113</td>\n",
       "    </tr>\n",
       "    <tr>\n",
       "      <th>Pennsylvania</th>\n",
       "      <td>10357519.0</td>\n",
       "      <td>0.401326</td>\n",
       "    </tr>\n",
       "    <tr>\n",
       "      <th>West Virginia</th>\n",
       "      <td>10689160.0</td>\n",
       "      <td>0.400682</td>\n",
       "    </tr>\n",
       "    <tr>\n",
       "      <th>Illinois</th>\n",
       "      <td>9797488.0</td>\n",
       "      <td>0.400140</td>\n",
       "    </tr>\n",
       "    <tr>\n",
       "      <th>Utah</th>\n",
       "      <td>9696420.0</td>\n",
       "      <td>0.399470</td>\n",
       "    </tr>\n",
       "    <tr>\n",
       "      <th>Montana</th>\n",
       "      <td>15710886.0</td>\n",
       "      <td>0.396670</td>\n",
       "    </tr>\n",
       "    <tr>\n",
       "      <th>Louisiana</th>\n",
       "      <td>23750781.0</td>\n",
       "      <td>0.396502</td>\n",
       "    </tr>\n",
       "    <tr>\n",
       "      <th>Kentucky</th>\n",
       "      <td>10072848.0</td>\n",
       "      <td>0.390737</td>\n",
       "    </tr>\n",
       "    <tr>\n",
       "      <th>Arkansas</th>\n",
       "      <td>12639347.0</td>\n",
       "      <td>0.388920</td>\n",
       "    </tr>\n",
       "    <tr>\n",
       "      <th>South Carolina</th>\n",
       "      <td>29285637.0</td>\n",
       "      <td>0.386682</td>\n",
       "    </tr>\n",
       "    <tr>\n",
       "      <th>Oklahoma</th>\n",
       "      <td>10620734.0</td>\n",
       "      <td>0.386652</td>\n",
       "    </tr>\n",
       "    <tr>\n",
       "      <th>Indiana</th>\n",
       "      <td>8836198.0</td>\n",
       "      <td>0.382433</td>\n",
       "    </tr>\n",
       "    <tr>\n",
       "      <th>New Jersey</th>\n",
       "      <td>9934246.0</td>\n",
       "      <td>0.368144</td>\n",
       "    </tr>\n",
       "    <tr>\n",
       "      <th>Delaware</th>\n",
       "      <td>12298412.0</td>\n",
       "      <td>0.367881</td>\n",
       "    </tr>\n",
       "    <tr>\n",
       "      <th>Colorado</th>\n",
       "      <td>20996536.0</td>\n",
       "      <td>0.367373</td>\n",
       "    </tr>\n",
       "    <tr>\n",
       "      <th>New York</th>\n",
       "      <td>64229039.0</td>\n",
       "      <td>0.363229</td>\n",
       "    </tr>\n",
       "    <tr>\n",
       "      <th>Georgia</th>\n",
       "      <td>18997466.0</td>\n",
       "      <td>0.362853</td>\n",
       "    </tr>\n",
       "    <tr>\n",
       "      <th>Wisconsin</th>\n",
       "      <td>7727469.0</td>\n",
       "      <td>0.362451</td>\n",
       "    </tr>\n",
       "    <tr>\n",
       "      <th>Minnesota</th>\n",
       "      <td>7378068.0</td>\n",
       "      <td>0.361914</td>\n",
       "    </tr>\n",
       "    <tr>\n",
       "      <th>Rhode Island</th>\n",
       "      <td>8446806.0</td>\n",
       "      <td>0.360588</td>\n",
       "    </tr>\n",
       "    <tr>\n",
       "      <th>Connecticut</th>\n",
       "      <td>11573448.0</td>\n",
       "      <td>0.358780</td>\n",
       "    </tr>\n",
       "    <tr>\n",
       "      <th>Virginia</th>\n",
       "      <td>21575040.0</td>\n",
       "      <td>0.357795</td>\n",
       "    </tr>\n",
       "    <tr>\n",
       "      <th>Iowa</th>\n",
       "      <td>7424011.0</td>\n",
       "      <td>0.357653</td>\n",
       "    </tr>\n",
       "    <tr>\n",
       "      <th>Maryland</th>\n",
       "      <td>7758059.0</td>\n",
       "      <td>0.355455</td>\n",
       "    </tr>\n",
       "    <tr>\n",
       "      <th>Oregon</th>\n",
       "      <td>21349674.0</td>\n",
       "      <td>0.354719</td>\n",
       "    </tr>\n",
       "    <tr>\n",
       "      <th>Florida</th>\n",
       "      <td>59283714.0</td>\n",
       "      <td>0.352984</td>\n",
       "    </tr>\n",
       "    <tr>\n",
       "      <th>New Hampshire</th>\n",
       "      <td>16411667.0</td>\n",
       "      <td>0.352567</td>\n",
       "    </tr>\n",
       "    <tr>\n",
       "      <th>Wyoming</th>\n",
       "      <td>18577517.0</td>\n",
       "      <td>0.352258</td>\n",
       "    </tr>\n",
       "    <tr>\n",
       "      <th>Kansas</th>\n",
       "      <td>9972864.0</td>\n",
       "      <td>0.351970</td>\n",
       "    </tr>\n",
       "    <tr>\n",
       "      <th>North Dakota</th>\n",
       "      <td>7735580.0</td>\n",
       "      <td>0.347552</td>\n",
       "    </tr>\n",
       "    <tr>\n",
       "      <th>Maine</th>\n",
       "      <td>9195978.0</td>\n",
       "      <td>0.346636</td>\n",
       "    </tr>\n",
       "    <tr>\n",
       "      <th>South Dakota</th>\n",
       "      <td>8495576.0</td>\n",
       "      <td>0.346453</td>\n",
       "    </tr>\n",
       "    <tr>\n",
       "      <th>New Mexico</th>\n",
       "      <td>19865016.0</td>\n",
       "      <td>0.339192</td>\n",
       "    </tr>\n",
       "    <tr>\n",
       "      <th>Arizona</th>\n",
       "      <td>15782221.0</td>\n",
       "      <td>0.338651</td>\n",
       "    </tr>\n",
       "    <tr>\n",
       "      <th>Nevada</th>\n",
       "      <td>20858509.0</td>\n",
       "      <td>0.338502</td>\n",
       "    </tr>\n",
       "    <tr>\n",
       "      <th>California</th>\n",
       "      <td>60174133.0</td>\n",
       "      <td>0.320755</td>\n",
       "    </tr>\n",
       "    <tr>\n",
       "      <th>Alaska</th>\n",
       "      <td>14753103.0</td>\n",
       "      <td>0.304908</td>\n",
       "    </tr>\n",
       "    <tr>\n",
       "      <th>Massachusetts</th>\n",
       "      <td>11076810.0</td>\n",
       "      <td>0.302784</td>\n",
       "    </tr>\n",
       "    <tr>\n",
       "      <th>Washington</th>\n",
       "      <td>26330718.0</td>\n",
       "      <td>0.265523</td>\n",
       "    </tr>\n",
       "    <tr>\n",
       "      <th>Hawaii</th>\n",
       "      <td>22282457.0</td>\n",
       "      <td>0.262529</td>\n",
       "    </tr>\n",
       "  </tbody>\n",
       "</table>\n",
       "</div>"
      ],
      "text/plain": [
       "                Total Sales  Operating Margin\n",
       "State                                        \n",
       "Alabama          17633424.0          0.518764\n",
       "Tennessee        18067440.0          0.470109\n",
       "Michigan         18625433.0          0.436816\n",
       "Idaho            19276878.0          0.421288\n",
       "Nebraska          5929038.0          0.411446\n",
       "Mississippi      15591709.0          0.408492\n",
       "Ohio             18484583.0          0.407304\n",
       "North Carolina   23956531.0          0.407255\n",
       "Missouri          9683265.0          0.403501\n",
       "Vermont          14352923.0          0.403121\n",
       "Texas            46359746.0          0.403113\n",
       "Pennsylvania     10357519.0          0.401326\n",
       "West Virginia    10689160.0          0.400682\n",
       "Illinois          9797488.0          0.400140\n",
       "Utah              9696420.0          0.399470\n",
       "Montana          15710886.0          0.396670\n",
       "Louisiana        23750781.0          0.396502\n",
       "Kentucky         10072848.0          0.390737\n",
       "Arkansas         12639347.0          0.388920\n",
       "South Carolina   29285637.0          0.386682\n",
       "Oklahoma         10620734.0          0.386652\n",
       "Indiana           8836198.0          0.382433\n",
       "New Jersey        9934246.0          0.368144\n",
       "Delaware         12298412.0          0.367881\n",
       "Colorado         20996536.0          0.367373\n",
       "New York         64229039.0          0.363229\n",
       "Georgia          18997466.0          0.362853\n",
       "Wisconsin         7727469.0          0.362451\n",
       "Minnesota         7378068.0          0.361914\n",
       "Rhode Island      8446806.0          0.360588\n",
       "Connecticut      11573448.0          0.358780\n",
       "Virginia         21575040.0          0.357795\n",
       "Iowa              7424011.0          0.357653\n",
       "Maryland          7758059.0          0.355455\n",
       "Oregon           21349674.0          0.354719\n",
       "Florida          59283714.0          0.352984\n",
       "New Hampshire    16411667.0          0.352567\n",
       "Wyoming          18577517.0          0.352258\n",
       "Kansas            9972864.0          0.351970\n",
       "North Dakota      7735580.0          0.347552\n",
       "Maine             9195978.0          0.346636\n",
       "South Dakota      8495576.0          0.346453\n",
       "New Mexico       19865016.0          0.339192\n",
       "Arizona          15782221.0          0.338651\n",
       "Nevada           20858509.0          0.338502\n",
       "California       60174133.0          0.320755\n",
       "Alaska           14753103.0          0.304908\n",
       "Massachusetts    11076810.0          0.302784\n",
       "Washington       26330718.0          0.265523\n",
       "Hawaii           22282457.0          0.262529"
      ]
     },
     "execution_count": 9,
     "metadata": {},
     "output_type": "execute_result"
    }
   ],
   "source": [
    "results = df.groupby('State')[['Total Sales','Operating Profit']].sum()\n",
    "results['Operating Margin'] = results['Operating Profit']/results['Total Sales']\n",
    "results = results.sort_values('Operating Margin', ascending=False)\n",
    "results[['Total Sales','Operating Margin']]"
   ]
  },
  {
   "cell_type": "markdown",
   "id": "a6fe2df5",
   "metadata": {},
   "source": [
    "The results are shocking!!\n",
    "\n",
    "There is a difference in operating margin between states. Alabama has almost double Hawaii's operating margin which is huge. Also, despite the fact that New Mexico and Idaho having almost the same total sales, there operating margin almost differs by 10%! "
   ]
  }
 ],
 "metadata": {
  "kernelspec": {
   "display_name": "Python 3 (ipykernel)",
   "language": "python",
   "name": "python3"
  },
  "language_info": {
   "codemirror_mode": {
    "name": "ipython",
    "version": 3
   },
   "file_extension": ".py",
   "mimetype": "text/x-python",
   "name": "python",
   "nbconvert_exporter": "python",
   "pygments_lexer": "ipython3",
   "version": "3.8.15"
  }
 },
 "nbformat": 4,
 "nbformat_minor": 5
}
